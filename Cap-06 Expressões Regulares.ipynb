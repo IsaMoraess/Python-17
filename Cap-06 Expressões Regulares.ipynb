{
 "cells": [
  {
   "cell_type": "markdown",
   "id": "e1141dac",
   "metadata": {},
   "source": [
    "# Expressões Regulares\n",
    "\n",
    "São padrões usados para combinar ou encontrar ocorrencias de sequencias de caracteres em uma String. Em Python, expressões regulamentares são geralmente usadas para manipular strings e realizar tarefas como validação de entrada de dados, extrção de informações de string e subistituição de texto."
   ]
  },
  {
   "cell_type": "code",
   "execution_count": 1,
   "id": "2892ff61",
   "metadata": {},
   "outputs": [],
   "source": [
    "import re"
   ]
  },
  {
   "cell_type": "code",
   "execution_count": 2,
   "id": "8451a075",
   "metadata": {},
   "outputs": [],
   "source": [
    "texto = \"Meu e-mail e exemplo@gmail.com e voce pode me contatar em outro e-mail outro_email@gmail.com.\""
   ]
  },
  {
   "cell_type": "code",
   "execution_count": 4,
   "id": "0dedf359",
   "metadata": {},
   "outputs": [],
   "source": [
    "# Expressao regular para contar quantas vezes o caracter arroba aparecer no texto\n",
    "resultado = len(re.findall(\"@\", texto))"
   ]
  },
  {
   "cell_type": "code",
   "execution_count": 7,
   "id": "ce6d170b",
   "metadata": {},
   "outputs": [
    {
     "name": "stdout",
     "output_type": "stream",
     "text": [
      "O caractere '@' apareceu 2 vezes no texto.\n"
     ]
    }
   ],
   "source": [
    "print(\"O caractere '@' apareceu\", resultado, \"vezes no texto.\")"
   ]
  },
  {
   "cell_type": "code",
   "execution_count": 9,
   "id": "745d9814",
   "metadata": {},
   "outputs": [],
   "source": [
    "# Expressao regular para extrair a palavra que aparece apos a palavra \"voce\" em um texto\n",
    "resultado = re.findall(r' voce (\\w+)', texto)"
   ]
  },
  {
   "cell_type": "code",
   "execution_count": 10,
   "id": "457f11ea",
   "metadata": {},
   "outputs": [
    {
     "name": "stdout",
     "output_type": "stream",
     "text": [
      "A palavra apos 'voce' e: pode\n"
     ]
    }
   ],
   "source": [
    "print(\"A palavra apos 'voce' e:\", resultado[0])"
   ]
  },
  {
   "cell_type": "code",
   "execution_count": 12,
   "id": "2e9b25c3",
   "metadata": {},
   "outputs": [],
   "source": [
    "# Expressao regular para extrair endereços de e-mail de um string \n",
    "emails = re.findall(r'\\b[A-Za-z0-9._%+-]+@[A-Za-z0-9.=]+\\.[A-Z|a-z]{2,}\\b', texto)"
   ]
  },
  {
   "cell_type": "code",
   "execution_count": 13,
   "id": "2c453749",
   "metadata": {},
   "outputs": [
    {
     "name": "stdout",
     "output_type": "stream",
     "text": [
      "['exemplo@gmail.com', 'outro_email@gmail.com']\n"
     ]
    }
   ],
   "source": [
    "print(emails)"
   ]
  },
  {
   "cell_type": "markdown",
   "id": "f0fbeefa",
   "metadata": {},
   "source": [
    "# Fim"
   ]
  }
 ],
 "metadata": {
  "kernelspec": {
   "display_name": "Python 3 (ipykernel)",
   "language": "python",
   "name": "python3"
  },
  "language_info": {
   "codemirror_mode": {
    "name": "ipython",
    "version": 3
   },
   "file_extension": ".py",
   "mimetype": "text/x-python",
   "name": "python",
   "nbconvert_exporter": "python",
   "pygments_lexer": "ipython3",
   "version": "3.9.13"
  }
 },
 "nbformat": 4,
 "nbformat_minor": 5
}
